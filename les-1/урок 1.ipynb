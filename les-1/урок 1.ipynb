{
 "cells": [
  {
   "cell_type": "code",
   "execution_count": 1,
   "id": "bdd3d24f-6397-4e47-8ff9-74be140a60a0",
   "metadata": {},
   "outputs": [
    {
     "name": "stdout",
     "output_type": "stream",
     "text": [
      "10 + 5 = 15\n"
     ]
    }
   ],
   "source": [
    "a = 10\n",
    "b = a + 5\n",
    "print('10 + 5 =', b)"
   ]
  },
  {
   "cell_type": "code",
   "execution_count": 4,
   "id": "bb518b65-08a8-4ba9-91a7-fd1c065ca983",
   "metadata": {},
   "outputs": [
    {
     "name": "stdout",
     "output_type": "stream",
     "text": [
      "4\n",
      "5\n",
      "text\n"
     ]
    }
   ],
   "source": [
    "a = 4\n",
    "print(a)\n",
    "a = a + 1\n",
    "print(a)\n",
    "a = 'text'\n",
    "print(a)"
   ]
  },
  {
   "cell_type": "code",
   "execution_count": 3,
   "id": "50b16596-aa1f-424c-bb0f-db6310e27d62",
   "metadata": {},
   "outputs": [
    {
     "data": {
      "text/plain": [
       "'text'"
      ]
     },
     "execution_count": 3,
     "metadata": {},
     "output_type": "execute_result"
    }
   ],
   "source": [
    "a"
   ]
  },
  {
   "cell_type": "code",
   "execution_count": 5,
   "id": "5aa8e4e7-4932-4dea-b666-004ee29217fc",
   "metadata": {},
   "outputs": [],
   "source": [
    "# переменная указывает на объект такого-то типа"
   ]
  },
  {
   "cell_type": "code",
   "execution_count": 6,
   "id": "ffd59894-38c6-4551-b0e1-e2a880a0bdfb",
   "metadata": {},
   "outputs": [
    {
     "name": "stdin",
     "output_type": "stream",
     "text": [
      "введите ваше имя:  u\n"
     ]
    }
   ],
   "source": [
    "name = input('введите ваше имя: ')"
   ]
  },
  {
   "cell_type": "code",
   "execution_count": 7,
   "id": "2a9e7aec-d866-4fbf-bcb3-468dd95b9f35",
   "metadata": {},
   "outputs": [
    {
     "data": {
      "text/plain": [
       "'u'"
      ]
     },
     "execution_count": 7,
     "metadata": {},
     "output_type": "execute_result"
    }
   ],
   "source": [
    "name"
   ]
  },
  {
   "cell_type": "code",
   "execution_count": 8,
   "id": "4e9ece4f-45a8-40bd-9626-7ec7ac001bcf",
   "metadata": {},
   "outputs": [
    {
     "name": "stdout",
     "output_type": "stream",
     "text": [
      "u\n"
     ]
    }
   ],
   "source": [
    "print(name)"
   ]
  },
  {
   "cell_type": "code",
   "execution_count": 9,
   "id": "0158c78d-f2ac-4fd9-bf65-fb9971059f85",
   "metadata": {},
   "outputs": [
    {
     "name": "stdin",
     "output_type": "stream",
     "text": [
      "введите целое число 10\n"
     ]
    }
   ],
   "source": [
    "a = int(input('введите целое число'))"
   ]
  },
  {
   "cell_type": "code",
   "execution_count": 10,
   "id": "63cf9809-c38d-4bcb-8191-e1ab6d3feca1",
   "metadata": {},
   "outputs": [
    {
     "data": {
      "text/plain": [
       "10"
      ]
     },
     "execution_count": 10,
     "metadata": {},
     "output_type": "execute_result"
    }
   ],
   "source": [
    "a"
   ]
  },
  {
   "cell_type": "code",
   "execution_count": 11,
   "id": "36b04370-6c72-4b91-a038-1091f5338285",
   "metadata": {},
   "outputs": [
    {
     "name": "stdout",
     "output_type": "stream",
     "text": [
      "10\n"
     ]
    }
   ],
   "source": [
    "print(a)"
   ]
  },
  {
   "cell_type": "code",
   "execution_count": 15,
   "id": "8893e89e-17e4-49e3-9d0f-bb369df0a502",
   "metadata": {},
   "outputs": [],
   "source": [
    "b = [1]"
   ]
  },
  {
   "cell_type": "code",
   "execution_count": 16,
   "id": "486751c9-d954-45ca-b48d-7056fa8316e0",
   "metadata": {},
   "outputs": [
    {
     "data": {
      "text/plain": [
       "[1]"
      ]
     },
     "execution_count": 16,
     "metadata": {},
     "output_type": "execute_result"
    }
   ],
   "source": [
    "b"
   ]
  },
  {
   "cell_type": "code",
   "execution_count": 17,
   "id": "80527614-dec0-4026-a6f4-7111d37e5cc4",
   "metadata": {},
   "outputs": [
    {
     "name": "stdout",
     "output_type": "stream",
     "text": [
      "[1]\n"
     ]
    }
   ],
   "source": [
    "print(b)"
   ]
  },
  {
   "cell_type": "code",
   "execution_count": 18,
   "id": "ce16662a-e1c5-4b11-9cca-371e752a7d5e",
   "metadata": {},
   "outputs": [],
   "source": [
    "name = 'вася'"
   ]
  },
  {
   "cell_type": "code",
   "execution_count": 19,
   "id": "2a8c0d30-37d4-412a-b5a4-267ebdb3d8f8",
   "metadata": {},
   "outputs": [
    {
     "name": "stdout",
     "output_type": "stream",
     "text": [
      "меня зовут вася\n"
     ]
    }
   ],
   "source": [
    "print('меня зовут', name)"
   ]
  },
  {
   "cell_type": "code",
   "execution_count": 21,
   "id": "b4e3789b-a758-45aa-91aa-8295c1c77c94",
   "metadata": {},
   "outputs": [],
   "source": [
    "# логическое Не - изменяет логическое значение\n",
    "#операнда на противоположное not"
   ]
  },
  {
   "cell_type": "code",
   "execution_count": 22,
   "id": "da30ee75-cc06-4494-acca-db1293f36928",
   "metadata": {},
   "outputs": [],
   "source": [
    "# in - проверка принадлежности"
   ]
  },
  {
   "cell_type": "code",
   "execution_count": 23,
   "id": "b75ac022-e73a-46a8-8d10-1dd21420d4aa",
   "metadata": {},
   "outputs": [],
   "source": [
    "# is оператор проверки тождественности"
   ]
  },
  {
   "cell_type": "code",
   "execution_count": 24,
   "id": "955e9585-eba1-4255-a0bb-601651a98661",
   "metadata": {},
   "outputs": [
    {
     "name": "stdout",
     "output_type": "stream",
     "text": [
      "False\n"
     ]
    }
   ],
   "source": [
    "x = 2\n",
    "y = 3\n",
    "print(x is y)"
   ]
  },
  {
   "cell_type": "code",
   "execution_count": 27,
   "id": "b4ff68d9-3fbd-4195-97ac-d41512c74c6e",
   "metadata": {},
   "outputs": [
    {
     "name": "stdout",
     "output_type": "stream",
     "text": [
      "20\n"
     ]
    }
   ],
   "source": [
    "c = a + a; print(c)"
   ]
  },
  {
   "cell_type": "code",
   "execution_count": 28,
   "id": "6cb37f04-85e6-4ce5-96c5-eb9b0bc26dd8",
   "metadata": {},
   "outputs": [],
   "source": [
    "# следование, ветвление, цикл - программу, \n",
    "# для решения любой задачи можно составить\n",
    "# из этих структур"
   ]
  },
  {
   "cell_type": "code",
   "execution_count": 30,
   "id": "d7aa521d-43cd-4415-8f80-7cee0828c0ad",
   "metadata": {},
   "outputs": [
    {
     "name": "stdin",
     "output_type": "stream",
     "text": [
      "введите пароль:  qwe\n"
     ]
    },
    {
     "name": "stdout",
     "output_type": "stream",
     "text": [
      "пароль неверен, вход запрещен\n"
     ]
    }
   ],
   "source": [
    "original_password = 'x777'\n",
    "password = input('введите пароль: ')\n",
    "access = False\n",
    "if password == original_password:\n",
    "    print('пароль принят, добро пожаловать в систему')\n",
    "    access = True\n",
    "else:\n",
    "    print('пароль неверен, вход запрещен')\n",
    "    "
   ]
  },
  {
   "cell_type": "code",
   "execution_count": 31,
   "id": "1cb628b2-6dbc-484d-8158-68a2cafbdae7",
   "metadata": {},
   "outputs": [
    {
     "name": "stdout",
     "output_type": "stream",
     "text": [
      "красный\n"
     ]
    }
   ],
   "source": [
    "color = 'red'\n",
    "if color == 'blue':\n",
    "    print('синий')\n",
    "elif color == 'red':\n",
    "    print('красный')\n",
    "elif color == 'green':\n",
    "    print('зеленый')\n",
    "else:\n",
    "    print('неизв цвет')"
   ]
  },
  {
   "cell_type": "code",
   "execution_count": 33,
   "id": "e038f8d3-cef3-4a7b-879a-5d6ae2a829af",
   "metadata": {},
   "outputs": [
    {
     "name": "stdin",
     "output_type": "stream",
     "text": [
      "введите перв число: 3\n",
      "введите втор число: 3\n"
     ]
    },
    {
     "name": "stdout",
     "output_type": "stream",
     "text": [
      "числа рав\n"
     ]
    }
   ],
   "source": [
    "numb_1 = int(input('введите перв число:'))\n",
    "numb_2 = int(input('введите втор число:'))\n",
    "\n",
    "if numb_1 != numb_2:\n",
    "    print('числа не равны')\n",
    "    if numb_1 > numb_2:\n",
    "        print('перв боль втор')\n",
    "    elif numb_1 < numb_2:\n",
    "        print('перв мен втор')\n",
    "elif numb_1 == numb_2:\n",
    "    print('числа рав')"
   ]
  },
  {
   "cell_type": "code",
   "execution_count": 35,
   "id": "f121d04f-68a1-4fbe-bdb1-533dd7735f94",
   "metadata": {},
   "outputs": [
    {
     "name": "stdin",
     "output_type": "stream",
     "text": [
      "введите цел чис от 0 до 9: 5\n"
     ]
    },
    {
     "name": "stdout",
     "output_type": "stream",
     "text": [
      "5\n",
      "8\n",
      "прогр заверш\n"
     ]
    }
   ],
   "source": [
    "number = int(input('введите цел чис от 0 до 9:'))\n",
    "while number < 10:\n",
    "    print(number)\n",
    "    number += 3\n",
    "print('прогр заверш')"
   ]
  },
  {
   "cell_type": "code",
   "execution_count": 36,
   "id": "5cc03347-718e-452c-84b3-9ec5455ae457",
   "metadata": {},
   "outputs": [
    {
     "name": "stdout",
     "output_type": "stream",
     "text": [
      "1\n",
      "3\n",
      "5\n",
      "7\n",
      "9\n"
     ]
    }
   ],
   "source": [
    "i = 0\n",
    "while True:\n",
    "    i += 1\n",
    "    if i >= 10:\n",
    "        break\n",
    "    if i % 2 == 0:\n",
    "        continue\n",
    "    print(i)"
   ]
  },
  {
   "cell_type": "code",
   "execution_count": 37,
   "id": "b9cd2193-3b5f-4944-a842-a5e886c9e102",
   "metadata": {},
   "outputs": [
    {
     "name": "stdout",
     "output_type": "stream",
     "text": [
      "2.50\n"
     ]
    }
   ],
   "source": [
    "print('%.2f' % (20.0/8))"
   ]
  },
  {
   "cell_type": "code",
   "execution_count": 38,
   "id": "ff18646f-d4ac-4e76-add3-6190612dae41",
   "metadata": {},
   "outputs": [
    {
     "name": "stdin",
     "output_type": "stream",
     "text": [
      "enter your name: ggg\n"
     ]
    },
    {
     "name": "stdout",
     "output_type": "stream",
     "text": [
      "hello, ggg!\n"
     ]
    }
   ],
   "source": [
    "name = input('enter your name:')\n",
    "print('hello, %s!' % name)"
   ]
  },
  {
   "cell_type": "code",
   "execution_count": 40,
   "id": "5a378583-b550-4c91-bbd1-e9efbf66839a",
   "metadata": {},
   "outputs": [
    {
     "name": "stdout",
     "output_type": "stream",
     "text": [
      "papam1     papam2     papam3    \n"
     ]
    }
   ],
   "source": [
    "print('%-10s %-10s %-10s' % ('papam1', 'papam2', 'papam3'))"
   ]
  },
  {
   "cell_type": "code",
   "execution_count": 41,
   "id": "3c956279-7ccc-49d5-8b46-68bbd72ebcdd",
   "metadata": {},
   "outputs": [
    {
     "name": "stdout",
     "output_type": "stream",
     "text": [
      "['el_1', 'el_2', 'el_3']\n"
     ]
    }
   ],
   "source": [
    "print('{}'.format(['el_1', 'el_2', 'el_3']))"
   ]
  },
  {
   "cell_type": "code",
   "execution_count": 43,
   "id": "b444c986-68ba-447a-8f5f-e208bdda40d2",
   "metadata": {},
   "outputs": [
    {
     "name": "stdout",
     "output_type": "stream",
     "text": [
      "               my_p1                my_p2                my_p3\n"
     ]
    }
   ],
   "source": [
    "print('{:>20} {:>20} {:>20}'.format('my_p1', 'my_p2', 'my_p3'))"
   ]
  },
  {
   "cell_type": "code",
   "execution_count": 45,
   "id": "767d1b8a-e623-4b32-b1d4-2047fc1c8a21",
   "metadata": {},
   "outputs": [
    {
     "name": "stdout",
     "output_type": "stream",
     "text": [
      "1.667\n"
     ]
    }
   ],
   "source": [
    "print('{:.3f}'.format(5.0/3))"
   ]
  },
  {
   "cell_type": "code",
   "execution_count": 46,
   "id": "2f8c0dc1-c3a5-491a-85a5-17596da5c0de",
   "metadata": {},
   "outputs": [
    {
     "name": "stdout",
     "output_type": "stream",
     "text": [
      "трет эл: e3; втор эл: e2; пер эл: e1\n"
     ]
    }
   ],
   "source": [
    "print('трет эл: {2}; втор эл: {1}; пер эл: {0}'.format('e1', 'e2', 'e3'))\n",
    "\n"
   ]
  },
  {
   "cell_type": "code",
   "execution_count": 47,
   "id": "3c21a14f-08cc-4167-8ff6-2815b2d01030",
   "metadata": {},
   "outputs": [
    {
     "name": "stdout",
     "output_type": "stream",
     "text": [
      "ip-params: 111, mask: 10\n"
     ]
    }
   ],
   "source": [
    "ip = '111'\n",
    "mask = 10\n",
    "\n",
    "print(f'ip-params: {ip}, mask: {mask}')"
   ]
  },
  {
   "cell_type": "code",
   "execution_count": 49,
   "id": "4b470876-35e2-4c21-9b5e-12b42a0d261a",
   "metadata": {},
   "outputs": [
    {
     "name": "stdout",
     "output_type": "stream",
     "text": [
      "ip-params: 10.1.100, mask: 10\n"
     ]
    }
   ],
   "source": [
    "octets = ['10', '1', '100']\n",
    "mask = 10\n",
    "print(f'ip-params: {\".\".join(octets)}, mask: {mask}')"
   ]
  },
  {
   "cell_type": "code",
   "execution_count": 54,
   "id": "330e59b2-b7d1-4365-b0d2-81f7f548ba9c",
   "metadata": {},
   "outputs": [
    {
     "name": "stdout",
     "output_type": "stream",
     "text": [
      "ip addres: 10       1        1        1       \n"
     ]
    }
   ],
   "source": [
    "oct1, oct2, oct3, oct4 = [10, 1, 1, 1]\n",
    "\n",
    "print(f'ip addres: {oct1:<8} {oct2:<8} {oct3:<8} {oct4:<8}')"
   ]
  },
  {
   "cell_type": "code",
   "execution_count": 53,
   "id": "d4b05b25-2531-4093-8539-8abb145528ed",
   "metadata": {},
   "outputs": [
    {
     "name": "stdout",
     "output_type": "stream",
     "text": [
      "IP address: 10       1        1        1       \n"
     ]
    }
   ],
   "source": [
    "oct1, oct2, oct3, oct4 = [10, 1, 1, 1]\n",
    "print(f'''IP address: {oct1:<8} {oct2:<8} {oct3:<8} {oct4:<8}''')"
   ]
  },
  {
   "cell_type": "code",
   "execution_count": 55,
   "id": "e9ebb400-6c0c-4e44-8906-1e39e3e24155",
   "metadata": {},
   "outputs": [
    {
     "name": "stdin",
     "output_type": "stream",
     "text": [
      "введите число: 5\n"
     ]
    },
    {
     "name": "stdout",
     "output_type": "stream",
     "text": [
      "10\n"
     ]
    }
   ],
   "source": [
    "my_var = int(input('введите число:')) + 5\n",
    "print(my_var)"
   ]
  },
  {
   "cell_type": "code",
   "execution_count": 56,
   "id": "c364c559-8e1d-483e-8358-4c8116f715d2",
   "metadata": {},
   "outputs": [
    {
     "name": "stdout",
     "output_type": "stream",
     "text": [
      "привет\n"
     ]
    }
   ],
   "source": [
    "msg = True\n",
    "if msg == True:\n",
    "    print('привет')"
   ]
  },
  {
   "cell_type": "code",
   "execution_count": null,
   "id": "6c2f680c-0f58-4b21-9c9a-6843a0605d82",
   "metadata": {},
   "outputs": [],
   "source": []
  }
 ],
 "metadata": {
  "kernelspec": {
   "display_name": "Python 3 (ipykernel)",
   "language": "python",
   "name": "python3"
  },
  "language_info": {
   "codemirror_mode": {
    "name": "ipython",
    "version": 3
   },
   "file_extension": ".py",
   "mimetype": "text/x-python",
   "name": "python",
   "nbconvert_exporter": "python",
   "pygments_lexer": "ipython3",
   "version": "3.9.12"
  }
 },
 "nbformat": 4,
 "nbformat_minor": 5
}
